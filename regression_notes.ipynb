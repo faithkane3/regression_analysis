{
 "cells": [
  {
   "cell_type": "markdown",
   "metadata": {},
   "source": [
    "# Regression Analysis\n",
    "\n",
    "- Used whenever there is a causal relationship between variables.\n",
    "- Linear regression is a linear approximation of a causal relationship between two or more variables. One of the most common ways to make inferences and predictions.\n",
    "\n",
    "- y is the dependent variable\n",
    "- x is the independent variable\n",
    "    - What is the value of y given the value of x?\n",
    "    - y is a function of x.\n",
    "    - The coefficient of x quantifies the effect it has on y.\n",
    "    - The constant\n",
    "    - Epsilon represents the error of estimation, the diff between the actual value of y and the value the regression has predicted. (actual -  predicted value of y)"
   ]
  },
  {
   "cell_type": "markdown",
   "metadata": {},
   "source": [
    "## Correlation vs Regression\n",
    "\n",
    "- Correlation does not imply causation.\n",
    "    - Correlation measures the relationship between two variables. \n",
    "    - Doesn't capture causality but the degree of interrelation between the two variables. \n",
    "    - It's symmetrical regarding both variables; it goes both ways/the variables can be reversed while maintingin the relationship.\n",
    "    - The measure is a single point and cannot be represented as a line.\n",
    "    \n",
    "- Regression analysis is about how one variable affects the other. \n",
    "    - Based on causality. It only shows cause and effect, not the degree of the connection. \n",
    "    - Regression goes one way; you cannot revserse the variables and expect the same cause and effect relationship.\n",
    "    - Is represented by the best fitting line with the least amount of error."
   ]
  }
 ],
 "metadata": {
  "kernelspec": {
   "display_name": "Python 3",
   "language": "python",
   "name": "python3"
  },
  "language_info": {
   "codemirror_mode": {
    "name": "ipython",
    "version": 3
   },
   "file_extension": ".py",
   "mimetype": "text/x-python",
   "name": "python",
   "nbconvert_exporter": "python",
   "pygments_lexer": "ipython3",
   "version": "3.7.4"
  }
 },
 "nbformat": 4,
 "nbformat_minor": 4
}
